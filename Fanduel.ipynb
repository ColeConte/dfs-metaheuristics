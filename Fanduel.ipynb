{
 "cells": [
  {
   "cell_type": "markdown",
   "metadata": {},
   "source": [
    "# Setup and Importing Weekly Price Data "
   ]
  },
  {
   "cell_type": "markdown",
   "metadata": {},
   "source": [
    "Our first step is to set up our environment and import Fanduel price data for the slate of games in question into a DataFrame."
   ]
  },
  {
   "cell_type": "code",
   "execution_count": 32,
   "metadata": {},
   "outputs": [
    {
     "data": {
      "text/html": [
       "<div>\n",
       "<style scoped>\n",
       "    .dataframe tbody tr th:only-of-type {\n",
       "        vertical-align: middle;\n",
       "    }\n",
       "\n",
       "    .dataframe tbody tr th {\n",
       "        vertical-align: top;\n",
       "    }\n",
       "\n",
       "    .dataframe thead th {\n",
       "        text-align: right;\n",
       "    }\n",
       "</style>\n",
       "<table border=\"1\" class=\"dataframe\">\n",
       "  <thead>\n",
       "    <tr style=\"text-align: right;\">\n",
       "      <th></th>\n",
       "      <th>Id</th>\n",
       "      <th>Position</th>\n",
       "      <th>First Name</th>\n",
       "      <th>Last Name</th>\n",
       "      <th>FPPG</th>\n",
       "      <th>Played</th>\n",
       "      <th>Salary</th>\n",
       "      <th>Game</th>\n",
       "      <th>Team</th>\n",
       "      <th>Opponent</th>\n",
       "      <th>Injury Indicator</th>\n",
       "      <th>Injury Details</th>\n",
       "    </tr>\n",
       "  </thead>\n",
       "  <tbody>\n",
       "    <tr>\n",
       "      <th>0</th>\n",
       "      <td>51732-54140</td>\n",
       "      <td>RB</td>\n",
       "      <td>Dalvin</td>\n",
       "      <td>Cook</td>\n",
       "      <td>25.787500</td>\n",
       "      <td>8</td>\n",
       "      <td>10500</td>\n",
       "      <td>DAL@MIN</td>\n",
       "      <td>MIN</td>\n",
       "      <td>DAL</td>\n",
       "      <td>NaN</td>\n",
       "      <td>NaN</td>\n",
       "    </tr>\n",
       "    <tr>\n",
       "      <th>1</th>\n",
       "      <td>51732-55050</td>\n",
       "      <td>RB</td>\n",
       "      <td>Christian</td>\n",
       "      <td>McCaffrey</td>\n",
       "      <td>16.380000</td>\n",
       "      <td>5</td>\n",
       "      <td>10000</td>\n",
       "      <td>DET@CAR</td>\n",
       "      <td>CAR</td>\n",
       "      <td>DET</td>\n",
       "      <td>NaN</td>\n",
       "      <td>Shoulder - ac joint</td>\n",
       "    </tr>\n",
       "    <tr>\n",
       "      <th>2</th>\n",
       "      <td>51732-42104</td>\n",
       "      <td>RB</td>\n",
       "      <td>Alvin</td>\n",
       "      <td>Kamara</td>\n",
       "      <td>23.655555</td>\n",
       "      <td>9</td>\n",
       "      <td>9700</td>\n",
       "      <td>ATL@NO</td>\n",
       "      <td>NO</td>\n",
       "      <td>ATL</td>\n",
       "      <td>NaN</td>\n",
       "      <td>NaN</td>\n",
       "    </tr>\n",
       "    <tr>\n",
       "      <th>3</th>\n",
       "      <td>51732-45889</td>\n",
       "      <td>WR</td>\n",
       "      <td>Davante</td>\n",
       "      <td>Adams</td>\n",
       "      <td>22.371429</td>\n",
       "      <td>7</td>\n",
       "      <td>9500</td>\n",
       "      <td>GB@IND</td>\n",
       "      <td>GB</td>\n",
       "      <td>IND</td>\n",
       "      <td>NaN</td>\n",
       "      <td>NaN</td>\n",
       "    </tr>\n",
       "    <tr>\n",
       "      <th>4</th>\n",
       "      <td>51732-6894</td>\n",
       "      <td>QB</td>\n",
       "      <td>Aaron</td>\n",
       "      <td>Rodgers</td>\n",
       "      <td>23.835556</td>\n",
       "      <td>9</td>\n",
       "      <td>9000</td>\n",
       "      <td>GB@IND</td>\n",
       "      <td>GB</td>\n",
       "      <td>IND</td>\n",
       "      <td>NaN</td>\n",
       "      <td>NaN</td>\n",
       "    </tr>\n",
       "  </tbody>\n",
       "</table>\n",
       "</div>"
      ],
      "text/plain": [
       "            Id Position First Name  Last Name       FPPG  Played  Salary  \\\n",
       "0  51732-54140       RB     Dalvin       Cook  25.787500       8   10500   \n",
       "1  51732-55050       RB  Christian  McCaffrey  16.380000       5   10000   \n",
       "2  51732-42104       RB      Alvin     Kamara  23.655555       9    9700   \n",
       "3  51732-45889       WR    Davante      Adams  22.371429       7    9500   \n",
       "4   51732-6894       QB      Aaron    Rodgers  23.835556       9    9000   \n",
       "\n",
       "      Game Team Opponent Injury Indicator       Injury Details  \n",
       "0  DAL@MIN  MIN      DAL              NaN                  NaN  \n",
       "1  DET@CAR  CAR      DET              NaN  Shoulder - ac joint  \n",
       "2   ATL@NO   NO      ATL              NaN                  NaN  \n",
       "3   GB@IND   GB      IND              NaN                  NaN  \n",
       "4   GB@IND   GB      IND              NaN                  NaN  "
      ]
     },
     "execution_count": 32,
     "metadata": {},
     "output_type": "execute_result"
    }
   ],
   "source": [
    "#Importing weekly price data\n",
    "import pandas as pd \n",
    "import matplotlib.pyplot as plt\n",
    "import seaborn as sns\n",
    "from scipy import stats\n",
    "from sklearn.cluster import KMeans\n",
    "from sklearn import linear_model\n",
    "\n",
    "df = pd.read_csv('FanDuel-NFL-2020-11-22-51732-players-list.csv').dropna(how='all',axis='columns').drop('Nickname',axis=1)\n",
    "df.head()"
   ]
  },
  {
   "cell_type": "markdown",
   "metadata": {},
   "source": [
    "# Data Cleaning"
   ]
  },
  {
   "cell_type": "markdown",
   "metadata": {},
   "source": [
    "We need our data to be rid of unnecessary values. Let's remove:\n",
    "- Players designated as out\n",
    "- Players averaging 0 FPPG\n",
    "    - These are our edge cases that additional research will need to be done on (e.g. AJ Green)\n",
    "- Minimum salary players (for now)\n",
    "    - QB 6000\n",
    "    - RB 4500\n",
    "    - WR 4500\n",
    "    - TE 4000\n"
   ]
  },
  {
   "cell_type": "code",
   "execution_count": 33,
   "metadata": {},
   "outputs": [],
   "source": [
    "#Data Cleaning\n",
    "df = df[(df['Injury Indicator'] != 'O') & (df['Injury Indicator'] != 'IR')]\n",
    "df = df[df.FPPG > 0]\n",
    "df = df[((df.Position == 'QB') & (df.Salary > 6000)) | ((df.Position == 'RB') & (df.Salary > 4500)) | ((df.Position == 'WR') & (df.Salary > 4500)) | ((df.Position == 'TE') & (df.Salary > 4000)) | (df.Position == 'D')]"
   ]
  },
  {
   "cell_type": "markdown",
   "metadata": {},
   "source": [
    "# First Visualizations"
   ]
  },
  {
   "cell_type": "markdown",
   "metadata": {},
   "source": [
    "Let's start by visualizing all players in a scatter plot: FPPG vs Salary."
   ]
  },
  {
   "cell_type": "markdown",
   "metadata": {},
   "source": [
    "Preliminary Observations:\n",
    " - There are a lot of TEs at the 4500 mark, presumably backups who get enough playing time to warrant a greater than minimum salary.\n",
    " - Above 5000 we seem to have a pretty linear relationship between fantasy production and salary. Let's look at this relationship by position.\n",
    " - D/ST salaries don't seem to be correlated to prior fantasy production. This is likely because D/ST scoring is highly correlated to strength of opponent offense."
   ]
  },
  {
   "cell_type": "code",
   "execution_count": 34,
   "metadata": {},
   "outputs": [
    {
     "data": {
      "image/png": "[encoded data removed]",
      "text/plain": [
       "<Figure size 432x288 with 1 Axes>"
      ]
     },
     "metadata": {
      "needs_background": "light"
     },
     "output_type": "display_data"
    }
   ],
   "source": [
    "sns.scatterplot(data=df,x='FPPG',y='Salary',hue='Position')\n",
    "plt.show()"
   ]
  },
  {
   "cell_type": "code",
   "execution_count": 35,
   "metadata": {},
   "outputs": [
    {
     "data": {
      "image/png": "[encoded data removed]",
      "text/plain": [
       "<Figure size 432x288 with 1 Axes>"
      ]
     },
     "metadata": {
      "needs_background": "light"
     },
     "output_type": "display_data"
    }
   ],
   "source": [
    "#Mapping positions to colors to visualize pricing\n",
    "QB = df[(df['Position'] == 'QB')]\n",
    "RB = df[(df['Position'] == 'RB')]\n",
    "WR =  df[(df['Position'] == 'WR')]\n",
    "TE = df[(df['Position'] == 'TE')]\n",
    "D = df[(df['Position'] == 'D')]\n",
    "\n",
    "lr = linear_model.LinearRegression()\n",
    "Y3 = QB['Salary'].values.reshape(-1,1)\n",
    "X3 = QB['FPPG'].values.reshape(-1,1)\n",
    "lr.fit(X3, Y3)\n",
    "Y_pred3 = lr.predict(X3)\n",
    "\n",
    "Y1 = RB['Salary'].values.reshape(-1,1)\n",
    "X1 = RB['FPPG'].values.reshape(-1,1)\n",
    "lr.fit(X1, Y1)\n",
    "Y_pred1 = lr.predict(X1)\n",
    "\n",
    "Y2 = WR['Salary'].values.reshape(-1,1)\n",
    "X2 = WR['FPPG'].values.reshape(-1,1)\n",
    "lr.fit(X2, Y2)\n",
    "Y_pred2 = lr.predict(X2)\n",
    "\n",
    "Y4 = TE['Salary'].values.reshape(-1,1)\n",
    "X4 = TE['FPPG'].values.reshape(-1,1)\n",
    "lr.fit(X4, Y4)\n",
    "Y_pred4 = lr.predict(X4)\n",
    "\n",
    "Y5 = D['Salary'].values.reshape(-1,1)\n",
    "X5 = D['FPPG'].values.reshape(-1,1)\n",
    "lr.fit(X5, Y5)\n",
    "Y_pred5 = lr.predict(X5)\n",
    "\n",
    "\n",
    "sns.scatterplot(data=df,x='FPPG',y='Salary',hue='Position')\n",
    "\n",
    "\n",
    "plt.plot(X1,Y_pred1)\n",
    "plt.plot(X2,Y_pred2)\n",
    "plt.plot(X3,Y_pred3)\n",
    "plt.plot(X4,Y_pred4)\n",
    "plt.plot(X5,Y_pred5)\n",
    "\n",
    "\n",
    "plt.show()"
   ]
  },
  {
   "cell_type": "markdown",
   "metadata": {},
   "source": [
    "# Generating Lineups\n",
    "Our next step is to generate some optimal or near-optimal lineups based on available data. We could probably iterate through all possible combinations, but for now let's use some popular metaheuristics. DFS lineups are a modified version of the knapsack problem, a classic problem in combinatorial optimization. DFS lineups add the constraints of positional limitations."
   ]
  },
  {
   "cell_type": "code",
   "execution_count": 51,
   "metadata": {},
   "outputs": [],
   "source": [
    "class Player:\n",
    "    def __init__(self,pos,fname,lname,fppg,played,salary,game,team,opponent,injuryInd,injuryDetails):\n",
    "        self.pos = pos\n",
    "        self.name = fname+\" \"+lname\n",
    "        self.fppg = float(fppg)\n",
    "        self.played = int(played)\n",
    "        self.salary = int(salary)\n",
    "        self.game = game\n",
    "        self.team = team\n",
    "        self.opponent = opponent\n",
    "        self.injuryInd = injuryInd\n",
    "        self.injuryDetails = injuryDetails\n",
    "        self.rawvalue = float(self.salary)/self.fppg\n",
    "\n",
    "    def __str__(self):\n",
    "        return self.name + \" has a raw value of \" + \"{:.2f}\".format(self.rawvalue)+ \" and a cost of \" + str(self.salary)\n",
    "\n",
    "    def isHome(self):\n",
    "        teams = self.game.split(\"@\")\n",
    "        if teams[1] == self.team:\n",
    "            return True\n",
    "        return False\n"
   ]
  },
  {
   "cell_type": "code",
   "execution_count": 53,
   "metadata": {},
   "outputs": [
    {
     "name": "stdout",
     "output_type": "stream",
     "text": [
      "Dalvin Cook has a raw value of 407.17 and a cost of 10500\n"
     ]
    },
    {
     "data": {
      "text/plain": [
       "True"
      ]
     },
     "execution_count": 53,
     "metadata": {},
     "output_type": "execute_result"
    }
   ],
   "source": [
    "#Create example player\n",
    "row = df.loc[0,:]\n",
    "attrs = [row[col] for col in df.columns[1:]]\n",
    "p1 = Player(*attrs)\n",
    "print(p1)\n",
    "p1.isHome()"
   ]
  },
  {
   "cell_type": "code",
   "execution_count": null,
   "metadata": {},
   "outputs": [],
   "source": [
    "class Lineup:\n",
    "    def __init__(self,qb,rb1,rb2,wr1,wr2,te,dst,flex):\n",
    "        self.team = [qb,rb1,rb2,wr1,wr2,te,dst,flex]\n",
    "        self.lineupValue = self.totalValue()\n",
    "        #self.lineupDf = pd.DataFrame({'Lineup':self.lineups,'Value':self.lineupValue})\n",
    "        \n",
    "    def totalValue(self, maxWeight=60000):\n",
    "        if len(players.Id) != len(set(players.Id)):\n",
    "            return 0\n",
    "        qb = len(players[players.Position == \"QB\"])\n",
    "        rb = len(players[players.Position == \"RB\"])\n",
    "        wr = len(players[players.Position == \"WR\"])\n",
    "        te = len(players[players.Position == \"TE\"])\n",
    "        dst = len(players[players.Position == \"D\"])\n",
    "        if qb == 1 and dst == 1 and rb >= 2 and wr >=3 and te >= 1:\n",
    "            return sum(players['FPPG'])if sum(players['Salary']) < maxWeight else 0\n",
    "        return 0"
   ]
  },
  {
   "cell_type": "code",
   "execution_count": 55,
   "metadata": {},
   "outputs": [],
   "source": [
    "\n",
    "\n",
    "class Population:\n",
    "    def __init__(self,lineups):\n",
    "        self.lineups = lineups\n",
    "        self.lineupValue = [self.totalValue(lineup) for lineup in self.lineups]\n",
    "        self.lineupDf = pd.DataFrame({'Lineup':self.lineups,'Value':self.lineupValue})\n",
    "        \n",
    "    def totalValue(self,players, maxWeight=60000):\n",
    "        if len(players.Id) != len(set(players.Id)):\n",
    "            return 0\n",
    "        qb = len(players[players.Position == \"QB\"])\n",
    "        rb = len(players[players.Position == \"RB\"])\n",
    "        wr = len(players[players.Position == \"WR\"])\n",
    "        te = len(players[players.Position == \"TE\"])\n",
    "        dst = len(players[players.Position == \"D\"])\n",
    "        if qb == 1 and dst == 1 and rb >= 2 and wr >=3 and te >= 1:\n",
    "            return sum(players['FPPG'])if sum(players['Salary']) < maxWeight else 0\n",
    "        return 0"
   ]
  },
  {
   "cell_type": "code",
   "execution_count": 56,
   "metadata": {
    "scrolled": false
   },
   "outputs": [],
   "source": [
    "#Let's be smart about initial sampling: start with 1 QB, 1 TE, 1 DST\n",
    "qbs = df[df.Position == \"QB\"]\n",
    "tes = df[df.Position == \"TE\"]\n",
    "ds = df[df.Position == \"D\"]\n",
    "rbs = df[df.Position == \"RB\"]\n",
    "wrs = df[df.Position == \"WR\"]\n",
    "flex = pd.concat([rbs,wrs,tes])\n",
    "lineups = []\n",
    "for i in range(30):\n",
    "    lineup = pd.concat([qbs.sample(),rbs.sample(n=2),wrs.sample(n=2),tes.sample(),ds.sample(),flex.sample()])\n",
    "    lineups.append(lineup)\n",
    "initialPopulation = Population(lineups)"
   ]
  },
  {
   "cell_type": "code",
   "execution_count": null,
   "metadata": {},
   "outputs": [],
   "source": [
    "def selection(pop_after_fit,n_parents):\n",
    "    return pop_after_fit.head(n_parents)\n",
    "\n",
    "def crossover(pop_after_sel):\n",
    "    population_nextgen=pop_after_sel\n",
    "    for i in range(len(pop_after_sel)):\n",
    "        for j in range(0,len(pop_after_cross)):\n",
    "            if i!=j:\n",
    "                parent1 = pop_after_sel[i]\n",
    "                parent2 = pop_after_sel[j]\n",
    "                \n",
    "        population_nextgen.append(child)\n",
    "    return population_nextgen\n",
    "\n",
    "def mutation(pop_after_cross,mutation_rate):\n",
    "    population_nextgen = []\n",
    "    for i in range(0,len(pop_after_cross)):\n",
    "\n",
    "        chromosome = pop_after_cross[i]\n",
    "        for j in range(len(chromosome)):\n",
    "            if random.random() < mutation_rate:\n",
    "                chromosome[j]= not chromosome[j]\n",
    "        population_nextgen.append(chromosome)\n",
    "    return population_nextgen\n",
    "\n",
    "def generations(initPop, n_parents,mutation_rate,n_gen):\n",
    "    pop_after_fit = initPop\n",
    "    pop_after_fit.sort_values(by='Value',inplace=True)\n",
    "    best = pop_after_fit.head(1)\n",
    "    for i in range(n_gen):\n",
    "        pop_after_sel = selection(pop_after_fit,n_parents)\n",
    "        pop_after_cross = crossover(pop_after_sel)\n",
    "        population_nextgen = mutation(pop_after_cross,mutation_rate)\n",
    "        population_nextgen.sort_values(by='Value',inplace=True)\n",
    "        best.append(population_nextgen.head(1))\n",
    "    return best\n",
    "\n",
    "bestLineups = generations(initPop = initialPopulation,n_parents=10,mutation_rate=.05,n_gen=100)"
   ]
  },
  {
   "cell_type": "markdown",
   "metadata": {},
   "source": [
    "# Scoring System Overview"
   ]
  },
  {
   "cell_type": "markdown",
   "metadata": {},
   "source": [
    "<img src='Fanduel Scoring.png'>\n",
    "\n",
    " - Half PPR\n",
    " - Decimal Scoring (devalues TDs slightly)\n",
    " - INTs are only -1\n",
    " - Return TDs count for player and DST"
   ]
  },
  {
   "cell_type": "code",
   "execution_count": null,
   "metadata": {},
   "outputs": [],
   "source": []
  }
 ],
 "metadata": {
  "kernelspec": {
   "display_name": "Python 3.8.3 ('base')",
   "language": "python",
   "name": "python3"
  },
  "language_info": {
   "codemirror_mode": {
    "name": "ipython",
    "version": 3
   },
   "file_extension": ".py",
   "mimetype": "text/x-python",
   "name": "python",
   "nbconvert_exporter": "python",
   "pygments_lexer": "ipython3",
   "version": "3.8.3"
  },
  "vscode": {
   "interpreter": {
    "hash": "e3c5283be9a2ea7008089048b9ff19f91ee8ab3a846403725bc7b61383259587"
   }
  }
 },
 "nbformat": 4,
 "nbformat_minor": 2
}
